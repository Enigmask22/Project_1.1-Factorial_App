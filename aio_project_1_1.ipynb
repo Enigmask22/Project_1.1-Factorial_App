{
  "cells": [
    {
      "cell_type": "code",
      "execution_count": 7,
      "metadata": {
        "id": "IHvul3KwNugD"
      },
      "outputs": [],
      "source": [
        "# Cài đặt Streamlit để xây dựng web app và Pyngrok để tạo tunnel trên Colab\n",
        "!pip install -q streamlit pyngrok"
      ]
    },
    {
      "cell_type": "code",
      "execution_count": 8,
      "metadata": {
        "colab": {
          "base_uri": "https://localhost:8080/"
        },
        "id": "hwgKpFY4NzGe",
        "outputId": "8603785a-60a0-4aa3-9c50-8f50d3f520fb"
      },
      "outputs": [
        {
          "name": "stdout",
          "output_type": "stream",
          "text": [
            "Overwriting factorial.py\n"
          ]
        }
      ],
      "source": [
        "%%writefile factorial.py\n",
        "\n",
        "# Factorial function\n",
        "def fact(n):\n",
        "    \"\"\"\n",
        "    Hàm tính giai thừa của một số nguyên không âm.\n",
        "    Sử dụng vòng lặp để tránh lỗi đệ quy với số lớn.\n",
        "    \"\"\"\n",
        "    if n < 0:\n",
        "        return \"Không xác định\" # Giai thừa không xác định cho số âm\n",
        "    if n == 0 or n == 1:\n",
        "        return 1\n",
        "    else:\n",
        "        result = 1\n",
        "        for i in range(2, n + 1):\n",
        "            result *= i\n",
        "        return result"
      ]
    },
    {
      "cell_type": "code",
      "execution_count": 9,
      "metadata": {
        "colab": {
          "base_uri": "https://localhost:8080/"
        },
        "id": "v2JvAGuiN0vs",
        "outputId": "cf538123-fc79-42a1-e219-4b5cf66ae81e"
      },
      "outputs": [
        {
          "name": "stdout",
          "output_type": "stream",
          "text": [
            "Overwriting user.txt\n"
          ]
        }
      ],
      "source": [
        "%%writefile user.txt\n",
        "admin\n",
        "aivietnam\n",
        "quocthai\n",
        "quangvinh"
      ]
    },
    {
      "cell_type": "code",
      "execution_count": null,
      "metadata": {
        "colab": {
          "base_uri": "https://localhost:8080/"
        },
        "id": "OklIYupON3Bb",
        "outputId": "6b97f517-09b5-4d6c-b114-9c7f97fdb72c"
      },
      "outputs": [
        {
          "name": "stdout",
          "output_type": "stream",
          "text": [
            "Overwriting app.py\n"
          ]
        }
      ],
      "source": [
        "%%writefile app.py\n",
        "import streamlit as st\n",
        "from factorial import fact\n",
        "import os\n",
        "\n",
        "def load_users():\n",
        "    \"\"\"Đọc danh sách user từ file user.txt\"\"\"\n",
        "    try:\n",
        "        if os.path.exists(\"user.txt\"):\n",
        "            with open(\"user.txt\", \"r\", encoding=\"utf-8\") as f:\n",
        "                users = [line.strip() for line in f.readlines() if line.strip()]\n",
        "            return users\n",
        "        else:\n",
        "            st.error(\"File user.txt không tồn tại!\")\n",
        "            return []\n",
        "    except Exception as e:\n",
        "        st.error(f\"Lỗi khi đọc file user.txt: {e}\")\n",
        "        return []\n",
        "\n",
        "def save_users(users_list):\n",
        "    \"\"\"Lưu danh sách users vào file user.txt\"\"\"\n",
        "    try:\n",
        "        with open(\"user.txt\", \"w\", encoding=\"utf-8\") as f:\n",
        "            for user in users_list:\n",
        "                f.write(user + \"\\n\")\n",
        "        return True\n",
        "    except Exception as e:\n",
        "        st.error(f\"Lỗi khi lưu file user.txt: {e}\")\n",
        "        return False\n",
        "\n",
        "def process_uploaded_file(uploaded_file):\n",
        "    \"\"\"Xử lý file txt được upload và trích xuất danh sách users\"\"\"\n",
        "    try:\n",
        "        # Đọc nội dung file được upload\n",
        "        content = uploaded_file.read().decode(\"utf-8\")\n",
        "        new_users = [line.strip() for line in content.splitlines() if line.strip()]\n",
        "        \n",
        "        # Lấy danh sách users hiện tại\n",
        "        current_users = load_users()\n",
        "        \n",
        "        # Merge danh sách (loại bỏ trùng lặp)\n",
        "        all_users = list(set(current_users + new_users))\n",
        "        all_users.sort()  # Sắp xếp theo thứ tự alphabetical\n",
        "        \n",
        "        return all_users\n",
        "    except Exception as e:\n",
        "        st.error(f\"Lỗi khi xử lý file: {e}\")\n",
        "        return []\n",
        "\n",
        "def login_page():\n",
        "    \"\"\"Trang đăng nhập\"\"\"\n",
        "    st.title(\"Đăng nhập\")\n",
        "    \n",
        "    # Hiển thị danh sách users hiện tại\n",
        "    with st.expander(\"📋 Danh sách users hiện tại\"):\n",
        "        current_users = load_users()\n",
        "        if current_users:\n",
        "            st.write(\"**Các tài khoản được phép:**\")\n",
        "            for user in current_users:\n",
        "                st.write(f\"• {user}\")\n",
        "        else:\n",
        "            st.write(\"Không có users nào trong hệ thống.\")\n",
        "    \n",
        "    # Phần tải lên file mới\n",
        "    st.markdown(\"---\")\n",
        "    st.subheader(\"📁 Cập nhật danh sách users\")\n",
        "    \n",
        "    uploaded_file = st.file_uploader(\n",
        "        \"Tải lên file txt chứa danh sách users mới:\",\n",
        "        type=['txt'],\n",
        "        help=\"File txt với mỗi user trên một dòng\"\n",
        "    )\n",
        "    \n",
        "    if uploaded_file is not None:\n",
        "        # Hiển thị preview nội dung file\n",
        "        with st.expander(\"👀 Xem trước nội dung file\"):\n",
        "            try:\n",
        "                preview_content = uploaded_file.read().decode(\"utf-8\")\n",
        "                st.text(preview_content)\n",
        "                uploaded_file.seek(0)  # Reset file pointer\n",
        "            except:\n",
        "                st.error(\"Không thể đọc file. Vui lòng kiểm tra định dạng file.\")\n",
        "        \n",
        "        # Nút cập nhật danh sách users\n",
        "        if st.button(\"🔄 Cập nhật danh sách users\"):\n",
        "            new_users_list = process_uploaded_file(uploaded_file)\n",
        "            if new_users_list:\n",
        "                if save_users(new_users_list):\n",
        "                    st.success(f\"✅ Đã cập nhật danh sách users thành công! ({len(new_users_list)} users)\")\n",
        "                    st.balloons()\n",
        "                    st.rerun()\n",
        "                else:\n",
        "                    st.error(\"❌ Lỗi khi lưu file users!\")\n",
        "            else:\n",
        "                st.error(\"❌ Không thể xử lý file được tải lên!\")\n",
        "    \n",
        "    # Phần đăng nhập\n",
        "    st.markdown(\"---\")\n",
        "    st.subheader(\"🔐 Đăng nhập\")\n",
        "    username = st.text_input(\"Nhập tên người dùng:\")\n",
        "\n",
        "    if st.button(\"Đăng nhập\"):\n",
        "        if username:\n",
        "            users = load_users()\n",
        "            if username in users:\n",
        "                st.session_state.logged_in = True\n",
        "                st.session_state.username = username\n",
        "                st.session_state.show_greeting = False # Đảm bảo không hiển thị trang chào mừng\n",
        "                st.rerun()\n",
        "            else:\n",
        "                # Nếu user không hợp lệ, hiển thị trang chào hỏi\n",
        "                st.session_state.show_greeting = True\n",
        "                st.session_state.username = username\n",
        "                st.rerun()\n",
        "        else:\n",
        "            st.warning(\"Vui lòng nhập tên người dùng!\")\n",
        "\n",
        "def factorial_calculator():\n",
        "    \"\"\"Trang tính giai thừa\"\"\"\n",
        "    st.title(\"Factorial Calculator\")\n",
        "\n",
        "    # Hiển thị thông tin user đã đăng nhập\n",
        "    st.write(f\"Xin chào, {st.session_state.username}!\")\n",
        "\n",
        "    # Nút đăng xuất\n",
        "    if st.button(\"Đăng xuất\"):\n",
        "        # Reset tất cả các session state\n",
        "        st.session_state.logged_in = False\n",
        "        st.session_state.username = \"\"\n",
        "        st.session_state.show_greeting = False\n",
        "        st.rerun()\n",
        "\n",
        "    st.divider()\n",
        "\n",
        "    # Chức năng tính giai thừa\n",
        "    number = st.number_input(\"Nhập vào một số:\", min_value=0, max_value=900, step=1)\n",
        "\n",
        "    if st.button(\"Tính giai thừa\"):\n",
        "        with st.spinner('Đang tính toán...'):\n",
        "            result = fact(number)\n",
        "            st.success(f\"Giai thừa của {number} là: **{result}**\")\n",
        "\n",
        "\n",
        "def greeting_page():\n",
        "    \"\"\"Trang chào hỏi cho user không hợp lệ\"\"\"\n",
        "    st.title(\"Xin chào!\")\n",
        "    st.write(f\"Xin chào {st.session_state.username}!\")\n",
        "    st.error(\"Bạn không có quyền truy cập vào chức năng tính giai thừa.\")\n",
        "    st.info(\"Vui lòng sử dụng tài khoản được cấp phép.\")\n",
        "\n",
        "    if st.button(\"Quay lại đăng nhập\"):\n",
        "        st.session_state.show_greeting = False\n",
        "        st.session_state.username = \"\"\n",
        "        st.rerun()\n",
        "\n",
        "def main():\n",
        "    # Khởi tạo các biến trạng thái trong session\n",
        "    if 'logged_in' not in st.session_state:\n",
        "        st.session_state.logged_in = False\n",
        "    if 'username' not in st.session_state:\n",
        "        st.session_state.username = \"\"\n",
        "    if 'show_greeting' not in st.session_state:\n",
        "        st.session_state.show_greeting = False\n",
        "\n",
        "    # Điều hướng trang dựa trên trạng thái đăng nhập\n",
        "    if st.session_state.logged_in:\n",
        "        factorial_calculator()\n",
        "    elif st.session_state.show_greeting:\n",
        "        greeting_page()\n",
        "    else:\n",
        "        login_page()\n",
        "\n",
        "if __name__ == '__main__':\n",
        "    main()\n"
      ]
    },
    {
      "cell_type": "code",
      "execution_count": null,
      "metadata": {
        "colab": {
          "base_uri": "https://localhost:8080/"
        },
        "id": "2qgbDNC3N77q",
        "outputId": "5bbcd37e-2555-43a0-bad5-acd0fb4768b7"
      },
      "outputs": [
        {
          "name": "stdout",
          "output_type": "stream",
          "text": [
            "34.32.205.95\n",
            "\u001b[1G\u001b[0K⠙\u001b[1G\u001b[0K⠹\u001b[1G\u001b[0K⠸\u001b[1G\u001b[0K⠼\u001b[1G\u001b[0K⠴\u001b[1G\u001b[0K⠦\u001b[1G\u001b[0K⠧\u001b[1G\u001b[0K⠇\u001b[1G\u001b[0K⠏\u001b[1G\u001b[0K⠋\u001b[1G\u001b[0K⠙\u001b[1G\u001b[0K⠹\u001b[1G\u001b[0K⠸\u001b[1G\u001b[0K⠼\u001b[1G\u001b[0K\u001b[1G\u001b[0JNeed to install the following packages:\n",
            "localtunnel@2.0.2\n",
            "Ok to proceed? (y) \u001b[20Gy\n",
            "\n",
            "\u001b[1G\u001b[0K⠙\u001b[1G\u001b[0K⠹\u001b[1G\u001b[0K⠸\u001b[1G\u001b[0K⠼\u001b[1G\u001b[0K⠴\u001b[1G\u001b[0K⠦\u001b[1G\u001b[0K⠧\u001b[1G\u001b[0K⠇\u001b[1G\u001b[0K⠏\u001b[1G\u001b[0K⠋\u001b[1G\u001b[0K⠙\u001b[1G\u001b[0K⠹\u001b[1G\u001b[0K⠸\u001b[1G\u001b[0K⠼\u001b[1G\u001b[0K⠴\u001b[1G\u001b[0K⠦\u001b[1G\u001b[0K⠧\u001b[1G\u001b[0K⠇\u001b[1G\u001b[0K⠏\u001b[1G\u001b[0K⠋\u001b[1G\u001b[0K⠙\u001b[1G\u001b[0K⠹\u001b[1G\u001b[0K⠸\u001b[1G\u001b[0K⠼\u001b[1G\u001b[0Kyour url is: https://smooth-signs-return.loca.lt\n"
          ]
        }
      ],
      "source": [
        "# Lấy địa chỉ IP public\n",
        "!wget -q -O - ipv4.icanhazip.com\n",
        "\n",
        "# Chạy streamlit trong nền và public nó qua localtunnel\n",
        "# Bạn sẽ thấy một đường link dạng \"your url is: https://<random-name>.loca.lt\"\n",
        "# Click vào link đó để mở ứng dụng.\n",
        "# Nhập địa chỉ IP đã lấy ở trên vào trang của localtunnel nếu được yêu cầu.\n",
        "!streamlit run app.py &>./logs.txt & npx localtunnel --port 8501"
      ]
    }
  ],
  "metadata": {
    "colab": {
      "provenance": []
    },
    "kernelspec": {
      "display_name": "Python 3",
      "name": "python3"
    },
    "language_info": {
      "name": "python"
    }
  },
  "nbformat": 4,
  "nbformat_minor": 0
}
